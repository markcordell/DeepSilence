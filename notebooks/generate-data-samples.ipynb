{
 "cells": [
  {
   "cell_type": "code",
   "execution_count": 2,
   "metadata": {},
   "outputs": [],
   "source": [
    "from random import randint\n",
    "from os import listdir\n",
    "from pydub import AudioSegment\n",
    "\n",
    "voices = listdir(\"../data/voice-samples\")\n",
    "noises = listdir(\"../data/noise-samples\")"
   ]
  },
  {
   "cell_type": "code",
   "execution_count": null,
   "metadata": {},
   "outputs": [],
   "source": [
    "for index, i in enumerate(voices):    \n",
    "    voice = AudioSegment.from_file(\"../data/voice-samples/{}\".format(i))\n",
    "    for x in range(0, 3):\n",
    "        random_noise_index = randint(0, (len(noises) - 1))\n",
    "        noise = AudioSegment.from_file(\"../data/noise-samples/{}\".format(noises[random_noise_index]))\n",
    "        noise = noise - 15\n",
    "        combined = voice.overlay(noise, loop=True)\n",
    "        voice.export(\"voice{}-{}.wav\".format(index, x), format='wav')\n",
    "        combined.export(\"combined{}-{}.wav\".format(index, x), format='wav')"
   ]
  }
 ],
 "metadata": {
  "kernelspec": {
   "display_name": "Python 3",
   "language": "python",
   "name": "python3"
  },
  "language_info": {
   "codemirror_mode": {
    "name": "ipython",
    "version": 3
   },
   "file_extension": ".py",
   "mimetype": "text/x-python",
   "name": "python",
   "nbconvert_exporter": "python",
   "pygments_lexer": "ipython3",
   "version": "3.6.2"
  }
 },
 "nbformat": 4,
 "nbformat_minor": 2
}
