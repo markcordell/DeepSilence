{
 "cells": [
  {
   "cell_type": "code",
   "execution_count": 1,
   "metadata": {},
   "outputs": [],
   "source": [
    "import sys\n",
    "import numpy\n",
    "numpy.set_printoptions(threshold=sys.maxsize)"
   ]
  },
  {
   "cell_type": "code",
   "execution_count": 16,
   "metadata": {},
   "outputs": [],
   "source": [
    "from os import listdir\n",
    "import numpy as np\n",
    "from keras.models import Sequential\n",
    "from keras.layers import LSTM, Dropout, Dense\n",
    "import librosa\n",
    "import soundfile"
   ]
  },
  {
   "cell_type": "code",
   "execution_count": 3,
   "metadata": {},
   "outputs": [
    {
     "name": "stdout",
     "output_type": "stream",
     "text": [
      "[name: \"/device:CPU:0\"\n",
      "device_type: \"CPU\"\n",
      "memory_limit: 268435456\n",
      "locality {\n",
      "}\n",
      "incarnation: 8940430260402548310\n",
      ", name: \"/device:XLA_CPU:0\"\n",
      "device_type: \"XLA_CPU\"\n",
      "memory_limit: 17179869184\n",
      "locality {\n",
      "}\n",
      "incarnation: 4559371323093208819\n",
      "physical_device_desc: \"device: XLA_CPU device\"\n",
      ", name: \"/device:GPU:0\"\n",
      "device_type: \"GPU\"\n",
      "memory_limit: 5810552832\n",
      "locality {\n",
      "  bus_id: 1\n",
      "  links {\n",
      "  }\n",
      "}\n",
      "incarnation: 5416370338252114173\n",
      "physical_device_desc: \"device: 0, name: GeForce RTX 2060, pci bus id: 0000:01:00.0, compute capability: 7.5\"\n",
      ", name: \"/device:XLA_GPU:0\"\n",
      "device_type: \"XLA_GPU\"\n",
      "memory_limit: 17179869184\n",
      "locality {\n",
      "}\n",
      "incarnation: 1660599460387681269\n",
      "physical_device_desc: \"device: XLA_GPU device\"\n",
      "]\n"
     ]
    }
   ],
   "source": [
    "from tensorflow.python.client import device_lib\n",
    "print(device_lib.list_local_devices())"
   ]
  },
  {
   "cell_type": "code",
   "execution_count": 4,
   "metadata": {},
   "outputs": [],
   "source": [
    "def sample_array(data, length):\n",
    "    input_samples = list()\n",
    "    for i in range(0,len(data), length):\n",
    "        sample = data[i:i+length]\n",
    "        if len(sample) != length:\n",
    "            sample = np.pad(sample, (0, length - len(sample)), 'constant')\n",
    "        input_samples.append(sample)\n",
    "    return np.asarray(input_samples).reshape(len(input_samples), length, 1)"
   ]
  },
  {
   "cell_type": "code",
   "execution_count": 5,
   "metadata": {},
   "outputs": [],
   "source": [
    "input_files = sorted(listdir('samples/combined-samples'))\n",
    "output_files = sorted(listdir('samples/voice-samples'))\n",
    "break_length = 200"
   ]
  },
  {
   "cell_type": "code",
   "execution_count": 6,
   "metadata": {},
   "outputs": [
    {
     "name": "stdout",
     "output_type": "stream",
     "text": [
      "(48500, 200, 1)\n"
     ]
    }
   ],
   "source": [
    "input_samples = list()\n",
    "for index, i in enumerate(input_files[0:100]):\n",
    "    input_loaded = librosa.load(\"samples/combined-samples/{}\".format(i))\n",
    "    for i in range(0,len(input_loaded[0]), break_length):\n",
    "        sample = input_loaded[0][i:i+break_length]\n",
    "        if len(sample) != break_length:\n",
    "            sample = np.pad(sample, (0, break_length - len(sample)), 'constant')\n",
    "        input_samples.append(sample)\n",
    "\n",
    "x_train = np.asarray(input_samples).reshape(len(input_samples), break_length, 1)\n",
    "print(x_train.shape)"
   ]
  },
  {
   "cell_type": "code",
   "execution_count": null,
   "metadata": {},
   "outputs": [],
   "source": []
  },
  {
   "cell_type": "code",
   "execution_count": 7,
   "metadata": {},
   "outputs": [
    {
     "name": "stdout",
     "output_type": "stream",
     "text": [
      "(48500, 200)\n"
     ]
    }
   ],
   "source": [
    "output_samples = list()\n",
    "for index, i in enumerate(output_files[0:100]):\n",
    "    output_loaded = librosa.load(\"samples/voice-samples/{}\".format(i))\n",
    "    for i in range(0,len(output_loaded[0]), break_length):\n",
    "        sample = output_loaded[0][i:i+break_length]\n",
    "        if len(sample) != break_length:\n",
    "            sample = np.pad(sample, (0, break_length - len(sample)), 'constant')\n",
    "        output_samples.append(sample)\n",
    "        \n",
    "#output_samples = list()\n",
    "#for i in range(0, len(output_loaded[0]), break_length):\n",
    "#    sample = output_loaded[0][i:i+break_length]\n",
    "#    if len(sample) != break_length:\n",
    "#        sample = np.pad(sample, (0, break_length - len(sample)), 'constant')\n",
    "#    input_samples.append(sample)\n",
    "#    output_samples.append(sample)\n",
    "\n",
    "y_train = np.asarray(output_samples)\n",
    "print(y_train.shape)"
   ]
  },
  {
   "cell_type": "code",
   "execution_count": 8,
   "metadata": {},
   "outputs": [
    {
     "name": "stdout",
     "output_type": "stream",
     "text": [
      "(48500, 200, 1)\n",
      "(48500, 200)\n"
     ]
    }
   ],
   "source": [
    "print(x_train.shape)\n",
    "print(y_train.shape)"
   ]
  },
  {
   "cell_type": "code",
   "execution_count": 31,
   "metadata": {},
   "outputs": [],
   "source": [
    "hidden_size = 200\n",
    "model = Sequential()\n",
    "\n",
    "model.add(LSTM(hidden_size, batch_input_shape=(500, break_length, 1), return_sequences=True, stateful=True))\n",
    "model.add(LSTM(hidden_size, return_sequences=True, stateful=True))\n",
    "model.add(LSTM(hidden_size, stateful=True))\n",
    "model.add(Dense(200, activation='relu'))\n",
    "model.compile(loss='binary_crossentropy', optimizer='adadelta')"
   ]
  },
  {
   "cell_type": "code",
   "execution_count": 33,
   "metadata": {},
   "outputs": [
    {
     "name": "stdout",
     "output_type": "stream",
     "text": [
      "Epoch 1/1\n",
      "48500/48500 [==============================] - 96s 2ms/step - loss: -0.0041\n"
     ]
    },
    {
     "data": {
      "text/plain": [
       "<keras.callbacks.History at 0x7f92b7961fd0>"
      ]
     },
     "execution_count": 33,
     "metadata": {},
     "output_type": "execute_result"
    }
   ],
   "source": [
    "model.fit(x_train, y_train, batch_size=500, epochs=1, shuffle=False)"
   ]
  },
  {
   "cell_type": "code",
   "execution_count": 19,
   "metadata": {},
   "outputs": [
    {
     "name": "stdout",
     "output_type": "stream",
     "text": [
      "(670, 200, 1)\n"
     ]
    }
   ],
   "source": [
    "test_file = 'samples/combined-samples/combined1024-2.wav'\n",
    "test_loaded = librosa.load(test_file)\n",
    "test_output = sample_array(test_loaded[0], 200)\n",
    "print(test_output.shape)"
   ]
  },
  {
   "cell_type": "code",
   "execution_count": 20,
   "metadata": {},
   "outputs": [],
   "source": [
    "output = model.predict(test_output)"
   ]
  },
  {
   "cell_type": "code",
   "execution_count": 21,
   "metadata": {},
   "outputs": [],
   "source": [
    "soundfile.write('test_output.wav', output.flatten(), 44100)"
   ]
  },
  {
   "cell_type": "code",
   "execution_count": null,
   "metadata": {},
   "outputs": [],
   "source": []
  }
 ],
 "metadata": {
  "kernelspec": {
   "display_name": "Python 3",
   "language": "python",
   "name": "python3"
  },
  "language_info": {
   "codemirror_mode": {
    "name": "ipython",
    "version": 3
   },
   "file_extension": ".py",
   "mimetype": "text/x-python",
   "name": "python",
   "nbconvert_exporter": "python",
   "pygments_lexer": "ipython3",
   "version": "3.7.4"
  }
 },
 "nbformat": 4,
 "nbformat_minor": 2
}
